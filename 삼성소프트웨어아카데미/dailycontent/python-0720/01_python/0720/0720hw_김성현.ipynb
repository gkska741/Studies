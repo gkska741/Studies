{
 "cells": [
  {
   "cell_type": "code",
   "execution_count": 1,
   "id": "e6ffc4c6",
   "metadata": {},
   "outputs": [
    {
     "name": "stdout",
     "output_type": "stream",
     "text": [
      "540\n",
      "1 2 3 4 5 6 9 10 12 15 18 20 27 30 36 45 54 60 90 108 135 180 270 540\n"
     ]
    }
   ],
   "source": [
    "# Workshop 1. 간단한 N의 약수\n",
    "\n",
    "while True:\n",
    "    N = int(input())\n",
    "    if N > 1000 or N < 1:\n",
    "        print('1이상 1000이하의 수만 가능')\n",
    "    else:\n",
    "        break\n",
    "\n",
    "storage = []\n",
    "for i in range(1, N+1):\n",
    "    if N % i == 0:\n",
    "        storage.append(str(i))\n",
    "    else:\n",
    "        pass\n",
    "print(' '.join(storage))\n",
    "    \n"
   ]
  },
  {
   "cell_type": "code",
   "execution_count": 1,
   "id": "ff62cf1d",
   "metadata": {},
   "outputs": [
    {
     "name": "stdout",
     "output_type": "stream",
     "text": [
      "64\n"
     ]
    }
   ],
   "source": [
    "#Workshop 2. 중간값 찾기\n",
    "\n",
    "numbers = [\n",
    "    85, 72, 38, 80, 69, 65, 68, 96, 22, 49, 67,\n",
    "    51, 61, 63, 87, 66, 24, 80, 83, 71, 60, 64,\n",
    "    52, 90, 60, 49, 31, 23, 99, 94, 11, 25, 24\n",
    "]\n",
    "numbers.sort()\n",
    "l = len(numbers)\n",
    "print(numbers[int((l-1)/2)])"
   ]
  },
  {
   "cell_type": "code",
   "execution_count": 3,
   "id": "be0a6afd",
   "metadata": {},
   "outputs": [
    {
     "name": "stdout",
     "output_type": "stream",
     "text": [
      "4\n",
      "1\n",
      "1 2\n",
      "1 2 3\n",
      "1 2 3 4\n"
     ]
    }
   ],
   "source": [
    "# Workshop 3. 계단 만들기\n",
    "\n",
    "stairs = int(input())\n",
    "sequence = []\n",
    "for i in range(1, stairs+1):\n",
    "    sequence.append(str(i))\n",
    "    print(' '.join(sequence))\n",
    "    \n"
   ]
  },
  {
   "cell_type": "code",
   "execution_count": 9,
   "id": "06c5acd0",
   "metadata": {},
   "outputs": [],
   "source": [
    "# Homework 1. Mutable vs Immutable\n",
    "\n",
    "#주어진 컨테이너들의 Mutable vs Immutable 판별\n",
    "\n",
    "Container = ['String', 'List', 'Tuple', 'Range', 'Set', 'Dictionary']\n",
    "\n",
    "# mutable한 컨테이너 : List, Set, Dictionary\n",
    "#immutable한 컨테이너 : String, Tuple, Range "
   ]
  },
  {
   "cell_type": "code",
   "execution_count": 5,
   "id": "7e1ee72a",
   "metadata": {},
   "outputs": [
    {
     "name": "stdout",
     "output_type": "stream",
     "text": [
      "[1, 3, 5, 7, 9, 11, 13, 15, 17, 19, 21, 23, 25, 27, 29, 31, 33, 35, 37, 39, 41, 43, 45, 47, 49]\n"
     ]
    }
   ],
   "source": [
    "# Homework 2. 홀수만 담기 - slicing과 range만을 사용하여 1~50 중 홀수만 출력\n",
    "\n",
    "numbers = list(range(1, 51))\n",
    "print(numbers[0 : 49 : 2])"
   ]
  },
  {
   "cell_type": "code",
   "execution_count": 6,
   "id": "ae7f0e0d",
   "metadata": {},
   "outputs": [
    {
     "name": "stdout",
     "output_type": "stream",
     "text": [
      "{'김성현': 27, '홍길동': 30, '이순신': 25, '강감찬': 28}\n"
     ]
    }
   ],
   "source": [
    "# Homework 3. Dictionary 만들기 (Key:이름, 값:나이)\n",
    "\n",
    "students = {\n",
    "    '김성현' : 27,\n",
    "    '홍길동' : 30,\n",
    "    '이순신' : 25,\n",
    "    '강감찬' : 28\n",
    "}\n",
    "print(students)"
   ]
  },
  {
   "cell_type": "code",
   "execution_count": 7,
   "id": "01c1f400",
   "metadata": {},
   "outputs": [
    {
     "name": "stdout",
     "output_type": "stream",
     "text": [
      "가로:5\n",
      "세로:3\n",
      "*****\n",
      "*****\n",
      "*****\n"
     ]
    }
   ],
   "source": [
    "#Homework 4. 네모별 만들기+반복문\n",
    "\n",
    "n = int(input(\"가로:\"))\n",
    "m = int(input(\"세로:\"))\n",
    "\n",
    "for i in range(m):\n",
    "    print('*'*n)"
   ]
  },
  {
   "cell_type": "code",
   "execution_count": 8,
   "id": "4a92c41b",
   "metadata": {},
   "outputs": [
    {
     "name": "stdout",
     "output_type": "stream",
     "text": [
      "입실가능\n"
     ]
    }
   ],
   "source": [
    "#Homework 5. 조건문 -> 표현식\n",
    "\n",
    "temp = 36.5\n",
    "state = '입실불가' if temp >= 37.5 else '입실가능'\n",
    "print(state)"
   ]
  },
  {
   "cell_type": "code",
   "execution_count": 4,
   "id": "2ae37fd5",
   "metadata": {},
   "outputs": [
    {
     "name": "stdout",
     "output_type": "stream",
     "text": [
      "351\n"
     ]
    }
   ],
   "source": [
    "#Homework 6. 평균 구하기\n",
    "\n",
    "scores = [80, 89, 99, 83]\n",
    "\n",
    "sum = 0\n",
    "for score in scores:\n",
    "    sum += score\n",
    "print(sum)"
   ]
  },
  {
   "cell_type": "code",
   "execution_count": null,
   "id": "8bd773b3",
   "metadata": {},
   "outputs": [],
   "source": []
  }
 ],
 "metadata": {
  "kernelspec": {
   "display_name": "Python 3 (ipykernel)",
   "language": "python",
   "name": "python3"
  },
  "language_info": {
   "codemirror_mode": {
    "name": "ipython",
    "version": 3
   },
   "file_extension": ".py",
   "mimetype": "text/x-python",
   "name": "python",
   "nbconvert_exporter": "python",
   "pygments_lexer": "ipython3",
   "version": "3.9.6"
  }
 },
 "nbformat": 4,
 "nbformat_minor": 5
}
