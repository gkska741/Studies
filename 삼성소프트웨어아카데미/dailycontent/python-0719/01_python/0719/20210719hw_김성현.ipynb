{
 "cells": [
  {
   "cell_type": "code",
   "execution_count": null,
   "id": "f075aac0",
   "metadata": {},
   "outputs": [],
   "source": [
    "# 1. Python 예약어 \n",
    "## python에서 사용할 수 없는 식별자를 찾아 작성하시오\n",
    "\"\"\"\n",
    "False, None, True, and, as, assert, async, await, break, class, \n",
    "continue, def, del, elif, else, except, finally, for, from, global, if, import, in, is, \n",
    "lambda, nonlocal, not, or, pass, raise, return, try, while, with, yield\n",
    "\"\"\""
   ]
  },
  {
   "cell_type": "code",
   "execution_count": null,
   "id": "e60a3aa3",
   "metadata": {},
   "outputs": [],
   "source": [
    "# 2. 실수비교\n",
    "## 실수를 비교할 수 있는 코드를 작성하시오.\n",
    "\n",
    "import math\n",
    "\n",
    "num1 = 0.1 * 3\n",
    "num2 = 0.3\n",
    "\n",
    "print(math.isclose(num1, num2))"
   ]
  },
  {
   "cell_type": "code",
   "execution_count": null,
   "id": "e7a0869d",
   "metadata": {},
   "outputs": [],
   "source": [
    "# 3. 이스케이프 시퀀스\n",
    "## (1)줄바꿈, (2)탭, (3)백슬래시를 의미하는 이스케이프 시퀀스\n",
    "\n",
    "   줄바꿈 : \\n\n",
    "       탭 : \\t\n",
    " 백슬래시 : \\\\ "
   ]
  },
  {
   "cell_type": "code",
   "execution_count": 3,
   "id": "335d4ecf",
   "metadata": {},
   "outputs": [
    {
     "name": "stdout",
     "output_type": "stream",
     "text": [
      "'안녕, 철수야'\n"
     ]
    }
   ],
   "source": [
    "# 4. String Interpolation\n",
    "## '안녕, 철수야'를 string interpolation을 이용하여 작성하시오.\n",
    "\n",
    "name = '철수'\n",
    "print(\"\\'안녕, \"+name + \"야\\'\")\n"
   ]
  },
  {
   "cell_type": "code",
   "execution_count": null,
   "id": "a51fe32f",
   "metadata": {},
   "outputs": [],
   "source": [
    "# 5. 형 변환\n",
    "## 다음 중 오류가 발생하는 코드는?\n",
    "\n",
    "(1) str(1)\n",
    "(2) int('30')\n",
    "(3) int(5)\n",
    "(4) bool('50')\n",
    "(5) int('3.5')\n",
    "\n",
    "answer : 5번만 오류가 발생한다(int로의 변환이 되지 않음)"
   ]
  },
  {
   "cell_type": "code",
   "execution_count": null,
   "id": "9d114452",
   "metadata": {},
   "outputs": [],
   "source": [
    "# 6. 네모 출력\n",
    "## n * m 형태의 별 모양의 직사각형을 출력(반복문 사용 금지)\n",
    "n = 13\n",
    "m = 7\n",
    "\n",
    "x = '*'+ ' '*(2*n-3) + '*\\n'\n",
    "\n",
    "print('* '*n)\n",
    "print(x*(m-2)+'* '*n)"
   ]
  },
  {
   "cell_type": "code",
   "execution_count": null,
   "id": "56a33088",
   "metadata": {},
   "outputs": [],
   "source": [
    "# 7. 이스케이프 시퀀스 응용\n",
    "## 다음 문장을 print한번으로 완성 : \"파일은 C:\\Windows\\Users\\내문서\\Python에 저장이 되었습니다.\"\n",
    "# (줄바꿈)나는 생각했다. 'cd를 써서 git bash로 들어가 봐야지'\n",
    "\n",
    "print('\"파일은 C:\\\\Windows\\\\Users\\\\내문서\\\\Python에 저장이 되었습니다.\"\\n나는 생각했다. \\'cd를 써서 git bash로 들어가 봐야지\\'')"
   ]
  },
  {
   "cell_type": "code",
   "execution_count": null,
   "id": "15bb616c",
   "metadata": {},
   "outputs": [],
   "source": [
    "# 8. 근의 공식을 Python코드로 작성\n",
    "print(\"a,b,c를 입력하시오\")\n",
    "a = float(input(\"a:\"))\n",
    "b = float(input(\"b:\"))\n",
    "c = float(input(\"c:\"))\n",
    "\n",
    "rt = (b**2 - (4*a*c))**0.5\n",
    "if type(rt) == complex :\n",
    "    print(\"실수해가 존재하지 않습니다\")\n",
    "elif rt == 0:\n",
    "    print(f'해는 {0-b/(2*a)}입니다(중근)')\n",
    "else:\n",
    "    print(f'두개의 해는 {((0-b)+rt)/(2*a)}와 {((0-b)-rt)/(2*a)}입니다.')"
   ]
  },
  {
   "cell_type": "code",
   "execution_count": 1,
   "id": "d6688e27",
   "metadata": {},
   "outputs": [
    {
     "name": "stdout",
     "output_type": "stream",
     "text": [
      "10\n",
      "1\n",
      "2\n",
      "3\n",
      "4\n",
      "5\n",
      "6\n",
      "7\n",
      "8\n",
      "9\n",
      "10\n"
     ]
    }
   ],
   "source": [
    "# Workshop 1.\n",
    "\n",
    "num = int(input())\n",
    "for i in range(num):\n",
    "    print(i+1)"
   ]
  },
  {
   "cell_type": "code",
   "execution_count": null,
   "id": "dc7b31db",
   "metadata": {},
   "outputs": [],
   "source": [
    "# Workshop 2. 거꾸로 출력하기\n",
    "num = int(input())\n",
    "for i in range(num, -1, -1):\n",
    "    print(i)"
   ]
  },
  {
   "cell_type": "code",
   "execution_count": null,
   "id": "4967fd5b",
   "metadata": {},
   "outputs": [],
   "source": [
    "# Workshop 3. N줄덧셈\n",
    "\n",
    "num = int(input(\"1부터 입력한 숫자까지 모두 더합니다:\"))\n",
    "calc = 0\n",
    "for i in range(num+1):\n",
    "    calc += i\n",
    "print(calc)"
   ]
  }
 ],
 "metadata": {
  "kernelspec": {
   "display_name": "Python 3 (ipykernel)",
   "language": "python",
   "name": "python3"
  },
  "language_info": {
   "codemirror_mode": {
    "name": "ipython",
    "version": 3
   },
   "file_extension": ".py",
   "mimetype": "text/x-python",
   "name": "python",
   "nbconvert_exporter": "python",
   "pygments_lexer": "ipython3",
   "version": "3.9.6"
  }
 },
 "nbformat": 4,
 "nbformat_minor": 5
}
